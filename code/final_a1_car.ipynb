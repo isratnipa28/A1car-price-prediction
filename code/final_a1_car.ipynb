{
  "nbformat": 4,
  "nbformat_minor": 0,
  "metadata": {
    "colab": {
      "provenance": []
    },
    "kernelspec": {
      "name": "python3",
      "display_name": "Python 3"
    },
    "language_info": {
      "name": "python"
    }
  },
  "cells": [
    {
      "cell_type": "code",
      "execution_count": 1,
      "metadata": {
        "id": "m_e4hlWEAdCa"
      },
      "outputs": [],
      "source": [
        "import pandas as pd\n",
        "import numpy as np\n",
        "from sklearn.model_selection import train_test_split\n",
        "from sklearn.linear_model import LinearRegression\n",
        "from sklearn.ensemble import RandomForestRegressor\n",
        "from sklearn.preprocessing import OneHotEncoder\n",
        "from sklearn.compose import ColumnTransformer\n",
        "from sklearn.pipeline import Pipeline\n",
        "from sklearn.ensemble import RandomForestRegressor, GradientBoostingRegressor\n",
        "from sklearn.metrics import mean_absolute_error, mean_squared_error, r2_score"
      ]
    },
    {
      "cell_type": "code",
      "source": [
        "from google.colab import drive\n",
        "drive.mount('/content/drive')"
      ],
      "metadata": {
        "colab": {
          "base_uri": "https://localhost:8080/"
        },
        "id": "xn3PdbB3lFMm",
        "outputId": "c7abb870-9376-49b8-e50d-03e89f50cc55"
      },
      "execution_count": 2,
      "outputs": [
        {
          "output_type": "stream",
          "name": "stdout",
          "text": [
            "Mounted at /content/drive\n"
          ]
        }
      ]
    },
    {
      "cell_type": "code",
      "source": [
        "import pandas as pd\n",
        "file_path = '/content/drive/MyDrive/Cars.csv'\n",
        "df = pd.read_csv(file_path)\n"
      ],
      "metadata": {
        "id": "2gd5XTSMAkW_"
      },
      "execution_count": 3,
      "outputs": []
    },
    {
      "cell_type": "code",
      "source": [
        "print(df.head())"
      ],
      "metadata": {
        "colab": {
          "base_uri": "https://localhost:8080/"
        },
        "id": "5r95OcFfAp-Y",
        "outputId": "5d4e4e9e-3fea-4917-b728-c1b68e7e28f4"
      },
      "execution_count": 4,
      "outputs": [
        {
          "output_type": "stream",
          "name": "stdout",
          "text": [
            "                           name  year  selling_price  km_driven    fuel  \\\n",
            "0        Maruti Swift Dzire VDI  2014         450000     145500  Diesel   \n",
            "1  Skoda Rapid 1.5 TDI Ambition  2014         370000     120000  Diesel   \n",
            "2      Honda City 2017-2020 EXi  2006         158000     140000  Petrol   \n",
            "3     Hyundai i20 Sportz Diesel  2010         225000     127000  Diesel   \n",
            "4        Maruti Swift VXI BSIII  2007         130000     120000  Petrol   \n",
            "\n",
            "  seller_type transmission         owner     mileage   engine   max_power  \\\n",
            "0  Individual       Manual   First Owner   23.4 kmpl  1248 CC      74 bhp   \n",
            "1  Individual       Manual  Second Owner  21.14 kmpl  1498 CC  103.52 bhp   \n",
            "2  Individual       Manual   Third Owner   17.7 kmpl  1497 CC      78 bhp   \n",
            "3  Individual       Manual   First Owner   23.0 kmpl  1396 CC      90 bhp   \n",
            "4  Individual       Manual   First Owner   16.1 kmpl  1298 CC    88.2 bhp   \n",
            "\n",
            "                     torque  seats  \n",
            "0            190Nm@ 2000rpm    5.0  \n",
            "1       250Nm@ 1500-2500rpm    5.0  \n",
            "2     12.7@ 2,700(kgm@ rpm)    5.0  \n",
            "3  22.4 kgm at 1750-2750rpm    5.0  \n",
            "4     11.5@ 4,500(kgm@ rpm)    5.0  \n"
          ]
        }
      ]
    },
    {
      "cell_type": "code",
      "source": [],
      "metadata": {
        "id": "fcXJmNt3VcoI"
      },
      "execution_count": null,
      "outputs": []
    },
    {
      "cell_type": "code",
      "source": [
        "# Map the 'owner' feature\n",
        "owner_mapping = {\n",
        "    'First Owner': 1,\n",
        "    'Second Owner': 2,\n",
        "    'Third Owner': 3,\n",
        "    'Fourth & Above Owner': 4,\n",
        "    'Test Drive Car': 5\n",
        "}\n",
        "df['owner'] = df['owner'].map(owner_mapping)\n"
      ],
      "metadata": {
        "id": "Qd0Kt9c0Vcvc"
      },
      "execution_count": 5,
      "outputs": []
    },
    {
      "cell_type": "code",
      "source": [
        "# Remove rows with 'fuel' as 'CNG' or 'LPG'\n",
        "df = df[~df['fuel'].isin(['CNG', 'LPG'])]\n",
        "\n",
        "# Process 'mileage' to remove \"kmpl\" and convert to float\n",
        "df['mileage'] = df['mileage'].str.split(' ').str[0].astype(float)\n",
        "\n",
        "# Process 'engine' to remove \"CC\" and convert to float\n",
        "df['engine'] = df['engine'].str.replace('CC', '').astype(float)\n",
        "\n",
        "# Process 'max_power' to remove \"bhp\" and convert to float\n",
        "df['max_power'] = df['max_power'].str.replace('bhp', '').astype(float)\n",
        "\n",
        "# Process 'name' to extract the brand\n",
        "df['brand'] = df['name'].str.split(' ').str[0]\n",
        "\n",
        "# Drop the 'torque' feature\n",
        "df = df.drop(columns=['torque'])\n",
        "\n",
        "# Remove rows with 'owner' as 5 (Test Drive Car)\n",
        "df = df[df['owner'] != 5]\n",
        "\n",
        "# Log transform the 'selling_price'\n",
        "df['selling_price'] = np.log(df['selling_price'])\n",
        "\n",
        "# Save the cleaned dataset (optional)\n",
        "df.to_csv('cleaned_dataset.csv', index=False)\n",
        "\n",
        "# Display the first few rows of the cleaned dataset\n",
        "print(df.head())"
      ],
      "metadata": {
        "colab": {
          "base_uri": "https://localhost:8080/"
        },
        "id": "ffdZM4dTVcyB",
        "outputId": "ebea4771-148a-46cd-9fa2-7c159a2177a4"
      },
      "execution_count": 6,
      "outputs": [
        {
          "output_type": "stream",
          "name": "stdout",
          "text": [
            "                           name  year  selling_price  km_driven    fuel  \\\n",
            "0        Maruti Swift Dzire VDI  2014      13.017003     145500  Diesel   \n",
            "1  Skoda Rapid 1.5 TDI Ambition  2014      12.821258     120000  Diesel   \n",
            "2      Honda City 2017-2020 EXi  2006      11.970350     140000  Petrol   \n",
            "3     Hyundai i20 Sportz Diesel  2010      12.323856     127000  Diesel   \n",
            "4        Maruti Swift VXI BSIII  2007      11.775290     120000  Petrol   \n",
            "\n",
            "  seller_type transmission  owner  mileage  engine  max_power  seats    brand  \n",
            "0  Individual       Manual      1    23.40  1248.0      74.00    5.0   Maruti  \n",
            "1  Individual       Manual      2    21.14  1498.0     103.52    5.0    Skoda  \n",
            "2  Individual       Manual      3    17.70  1497.0      78.00    5.0    Honda  \n",
            "3  Individual       Manual      1    23.00  1396.0      90.00    5.0  Hyundai  \n",
            "4  Individual       Manual      1    16.10  1298.0      88.20    5.0   Maruti  \n"
          ]
        },
        {
          "output_type": "stream",
          "name": "stderr",
          "text": [
            "<ipython-input-6-91050e957fb5>:5: SettingWithCopyWarning: \n",
            "A value is trying to be set on a copy of a slice from a DataFrame.\n",
            "Try using .loc[row_indexer,col_indexer] = value instead\n",
            "\n",
            "See the caveats in the documentation: https://pandas.pydata.org/pandas-docs/stable/user_guide/indexing.html#returning-a-view-versus-a-copy\n",
            "  df['mileage'] = df['mileage'].str.split(' ').str[0].astype(float)\n",
            "<ipython-input-6-91050e957fb5>:8: SettingWithCopyWarning: \n",
            "A value is trying to be set on a copy of a slice from a DataFrame.\n",
            "Try using .loc[row_indexer,col_indexer] = value instead\n",
            "\n",
            "See the caveats in the documentation: https://pandas.pydata.org/pandas-docs/stable/user_guide/indexing.html#returning-a-view-versus-a-copy\n",
            "  df['engine'] = df['engine'].str.replace('CC', '').astype(float)\n",
            "<ipython-input-6-91050e957fb5>:11: SettingWithCopyWarning: \n",
            "A value is trying to be set on a copy of a slice from a DataFrame.\n",
            "Try using .loc[row_indexer,col_indexer] = value instead\n",
            "\n",
            "See the caveats in the documentation: https://pandas.pydata.org/pandas-docs/stable/user_guide/indexing.html#returning-a-view-versus-a-copy\n",
            "  df['max_power'] = df['max_power'].str.replace('bhp', '').astype(float)\n",
            "<ipython-input-6-91050e957fb5>:14: SettingWithCopyWarning: \n",
            "A value is trying to be set on a copy of a slice from a DataFrame.\n",
            "Try using .loc[row_indexer,col_indexer] = value instead\n",
            "\n",
            "See the caveats in the documentation: https://pandas.pydata.org/pandas-docs/stable/user_guide/indexing.html#returning-a-view-versus-a-copy\n",
            "  df['brand'] = df['name'].str.split(' ').str[0]\n"
          ]
        }
      ]
    },
    {
      "cell_type": "code",
      "source": [
        "# Check for non-string or missing values in 'mileage'\n",
        "print(df['mileage'].isnull().sum())  # Check for NaN values\n",
        "print(df['mileage'].dtype)  # Check the data type of 'mileage'\n",
        "\n"
      ],
      "metadata": {
        "colab": {
          "base_uri": "https://localhost:8080/"
        },
        "id": "Rn8yOm68VpWu",
        "outputId": "995e9aa5-a3a4-4c26-a54d-89917be0934f"
      },
      "execution_count": 7,
      "outputs": [
        {
          "output_type": "stream",
          "name": "stdout",
          "text": [
            "214\n",
            "float64\n"
          ]
        }
      ]
    },
    {
      "cell_type": "code",
      "source": [
        "\n",
        "# Convert non-string or missing 'mileage' values to a default value\n",
        "# Fill missing values with a placeholder (e.g., '0 kmpl') before processing\n",
        "df['mileage'] = df['mileage'].fillna('0 kmpl')"
      ],
      "metadata": {
        "id": "utWIsup3KZbV"
      },
      "execution_count": 8,
      "outputs": []
    },
    {
      "cell_type": "code",
      "source": [
        "# Ensure all values are strings before splitting\n",
        "df['mileage'] = df['mileage'].astype(str).str.split(' ').str[0].replace('', '0').astype(float)"
      ],
      "metadata": {
        "id": "y7pf1aJxVwKZ"
      },
      "execution_count": 9,
      "outputs": []
    },
    {
      "cell_type": "code",
      "source": [
        "print(df['mileage'].isnull().sum())  # Check for NaN values\n",
        "print(df['mileage'].dtype)"
      ],
      "metadata": {
        "colab": {
          "base_uri": "https://localhost:8080/"
        },
        "id": "K7lLBH8iKkUC",
        "outputId": "23851419-4906-4b5c-ff50-f2a755f374ac"
      },
      "execution_count": 10,
      "outputs": [
        {
          "output_type": "stream",
          "name": "stdout",
          "text": [
            "0\n",
            "float64\n"
          ]
        }
      ]
    },
    {
      "cell_type": "code",
      "source": [
        "print(df.head())  # Display first rows\n",
        "print(df.info())  # Check column data types and null counts\n"
      ],
      "metadata": {
        "colab": {
          "base_uri": "https://localhost:8080/"
        },
        "id": "QOFdfvahVwOV",
        "outputId": "3f37b72d-1aef-4b7b-e4a8-cf31cc23a306"
      },
      "execution_count": 11,
      "outputs": [
        {
          "output_type": "stream",
          "name": "stdout",
          "text": [
            "                           name  year  selling_price  km_driven    fuel  \\\n",
            "0        Maruti Swift Dzire VDI  2014      13.017003     145500  Diesel   \n",
            "1  Skoda Rapid 1.5 TDI Ambition  2014      12.821258     120000  Diesel   \n",
            "2      Honda City 2017-2020 EXi  2006      11.970350     140000  Petrol   \n",
            "3     Hyundai i20 Sportz Diesel  2010      12.323856     127000  Diesel   \n",
            "4        Maruti Swift VXI BSIII  2007      11.775290     120000  Petrol   \n",
            "\n",
            "  seller_type transmission  owner  mileage  engine  max_power  seats    brand  \n",
            "0  Individual       Manual      1    23.40  1248.0      74.00    5.0   Maruti  \n",
            "1  Individual       Manual      2    21.14  1498.0     103.52    5.0    Skoda  \n",
            "2  Individual       Manual      3    17.70  1497.0      78.00    5.0    Honda  \n",
            "3  Individual       Manual      1    23.00  1396.0      90.00    5.0  Hyundai  \n",
            "4  Individual       Manual      1    16.10  1298.0      88.20    5.0   Maruti  \n",
            "<class 'pandas.core.frame.DataFrame'>\n",
            "Index: 8028 entries, 0 to 8127\n",
            "Data columns (total 13 columns):\n",
            " #   Column         Non-Null Count  Dtype  \n",
            "---  ------         --------------  -----  \n",
            " 0   name           8028 non-null   object \n",
            " 1   year           8028 non-null   int64  \n",
            " 2   selling_price  8028 non-null   float64\n",
            " 3   km_driven      8028 non-null   int64  \n",
            " 4   fuel           8028 non-null   object \n",
            " 5   seller_type    8028 non-null   object \n",
            " 6   transmission   8028 non-null   object \n",
            " 7   owner          8028 non-null   int64  \n",
            " 8   mileage        8028 non-null   float64\n",
            " 9   engine         7814 non-null   float64\n",
            " 10  max_power      7820 non-null   float64\n",
            " 11  seats          7814 non-null   float64\n",
            " 12  brand          8028 non-null   object \n",
            "dtypes: float64(5), int64(3), object(5)\n",
            "memory usage: 878.1+ KB\n",
            "None\n"
          ]
        }
      ]
    },
    {
      "cell_type": "code",
      "source": [
        "# Fill missing values in 'engine' with the median\n",
        "df['engine'] = df['engine'].fillna(df['engine'].median())\n",
        "\n",
        "# Fill missing values in 'max_power' with the median\n",
        "df['max_power'] = df['max_power'].fillna('0 bhp')  # Replace NaN with placeholder\n",
        "df['max_power'] = df['max_power'].str.replace('bhp', '', regex=False).astype(float)\n",
        "\n",
        "# Fill missing values in 'seats' with the most frequent value (mode)\n",
        "df['seats'] = df['seats'].fillna(df['seats'].mode()[0])\n",
        "\n",
        "\n"
      ],
      "metadata": {
        "id": "4z3v_990V_Cx"
      },
      "execution_count": 13,
      "outputs": []
    },
    {
      "cell_type": "code",
      "source": [
        "# Drop 'torque' column as instructed\n",
        "#df = df.drop(columns=['torque'])\n",
        "# 7. Drop the feature 'torque' if it exists\n",
        "if 'torque' in df.columns:\n",
        "    df = df.drop(columns=['torque'])"
      ],
      "metadata": {
        "id": "2Ji-16LmKwZp"
      },
      "execution_count": 14,
      "outputs": []
    },
    {
      "cell_type": "code",
      "source": [
        "print(df.info())  # Check column types and null counts\n",
        "print(df.head())  # Display the first few rows\n"
      ],
      "metadata": {
        "colab": {
          "base_uri": "https://localhost:8080/"
        },
        "id": "PG4rP0_nWDWH",
        "outputId": "556cdf81-79e9-41d8-a8af-e5f689ddaf97"
      },
      "execution_count": 15,
      "outputs": [
        {
          "output_type": "stream",
          "name": "stdout",
          "text": [
            "<class 'pandas.core.frame.DataFrame'>\n",
            "Index: 8028 entries, 0 to 8127\n",
            "Data columns (total 13 columns):\n",
            " #   Column         Non-Null Count  Dtype  \n",
            "---  ------         --------------  -----  \n",
            " 0   name           8028 non-null   object \n",
            " 1   year           8028 non-null   int64  \n",
            " 2   selling_price  8028 non-null   float64\n",
            " 3   km_driven      8028 non-null   int64  \n",
            " 4   fuel           8028 non-null   object \n",
            " 5   seller_type    8028 non-null   object \n",
            " 6   transmission   8028 non-null   object \n",
            " 7   owner          8028 non-null   int64  \n",
            " 8   mileage        8028 non-null   float64\n",
            " 9   engine         8028 non-null   float64\n",
            " 10  max_power      7820 non-null   float64\n",
            " 11  seats          8028 non-null   float64\n",
            " 12  brand          8028 non-null   object \n",
            "dtypes: float64(5), int64(3), object(5)\n",
            "memory usage: 878.1+ KB\n",
            "None\n",
            "                           name  year  selling_price  km_driven    fuel  \\\n",
            "0        Maruti Swift Dzire VDI  2014      13.017003     145500  Diesel   \n",
            "1  Skoda Rapid 1.5 TDI Ambition  2014      12.821258     120000  Diesel   \n",
            "2      Honda City 2017-2020 EXi  2006      11.970350     140000  Petrol   \n",
            "3     Hyundai i20 Sportz Diesel  2010      12.323856     127000  Diesel   \n",
            "4        Maruti Swift VXI BSIII  2007      11.775290     120000  Petrol   \n",
            "\n",
            "  seller_type transmission  owner  mileage  engine  max_power  seats    brand  \n",
            "0  Individual       Manual      1    23.40  1248.0        0.0    5.0   Maruti  \n",
            "1  Individual       Manual      2    21.14  1498.0        0.0    5.0    Skoda  \n",
            "2  Individual       Manual      3    17.70  1497.0        0.0    5.0    Honda  \n",
            "3  Individual       Manual      1    23.00  1396.0        0.0    5.0  Hyundai  \n",
            "4  Individual       Manual      1    16.10  1298.0        0.0    5.0   Maruti  \n"
          ]
        }
      ]
    },
    {
      "cell_type": "code",
      "source": [
        "print(df.describe())\n"
      ],
      "metadata": {
        "colab": {
          "base_uri": "https://localhost:8080/"
        },
        "id": "XsR72_18WPxW",
        "outputId": "b6e51209-f719-49d7-cd55-a43a1b8aa1fa"
      },
      "execution_count": 16,
      "outputs": [
        {
          "output_type": "stream",
          "name": "stdout",
          "text": [
            "              year  selling_price     km_driven        owner      mileage  \\\n",
            "count  8028.000000    8028.000000  8.028000e+03  8028.000000  8028.000000   \n",
            "mean   2013.815521      12.979337  6.977314e+04     1.458022    18.875036   \n",
            "std       4.030836       0.838039  5.664419e+04     0.715283     5.034581   \n",
            "min    1983.000000      10.308919  1.000000e+03     1.000000     0.000000   \n",
            "25%    2011.000000      12.468437  3.500000e+04     1.000000    16.470000   \n",
            "50%    2015.000000      13.017003  6.000000e+04     1.000000    19.100000   \n",
            "75%    2017.000000      13.429848  9.800000e+04     2.000000    22.100000   \n",
            "max    2020.000000      16.118096  2.360457e+06     4.000000    42.000000   \n",
            "\n",
            "            engine  max_power        seats  \n",
            "count  8028.000000     7820.0  8028.000000  \n",
            "mean   1457.185725        0.0     5.410314  \n",
            "std     499.187790        0.0     0.952623  \n",
            "min     624.000000        0.0     2.000000  \n",
            "25%    1197.000000        0.0     5.000000  \n",
            "50%    1248.000000        0.0     5.000000  \n",
            "75%    1582.000000        0.0     5.000000  \n",
            "max    3604.000000        0.0    14.000000  \n"
          ]
        }
      ]
    },
    {
      "cell_type": "code",
      "source": [
        "import numpy as np\n",
        "df['selling_price'] = np.log(df['selling_price'])\n"
      ],
      "metadata": {
        "id": "u1KDa9iYWP0M"
      },
      "execution_count": 17,
      "outputs": []
    },
    {
      "cell_type": "code",
      "source": [
        "df = pd.get_dummies(df, columns=['fuel', 'seller_type', 'transmission'], drop_first=True)\n"
      ],
      "metadata": {
        "id": "ewhix1hfWP3G"
      },
      "execution_count": 18,
      "outputs": []
    },
    {
      "cell_type": "code",
      "source": [
        "print(df)\n"
      ],
      "metadata": {
        "colab": {
          "base_uri": "https://localhost:8080/"
        },
        "id": "eDIUSi8XWhGv",
        "outputId": "ab5e2d4f-ab1e-4f26-8b26-ea67316d2663"
      },
      "execution_count": 19,
      "outputs": [
        {
          "output_type": "stream",
          "name": "stdout",
          "text": [
            "                              name  year  selling_price  km_driven  owner  \\\n",
            "0           Maruti Swift Dzire VDI  2014       2.566256     145500      1   \n",
            "1     Skoda Rapid 1.5 TDI Ambition  2014       2.551105     120000      2   \n",
            "2         Honda City 2017-2020 EXi  2006       2.482433     140000      3   \n",
            "3        Hyundai i20 Sportz Diesel  2010       2.511537     127000      1   \n",
            "4           Maruti Swift VXI BSIII  2007       2.466003     120000      1   \n",
            "...                            ...   ...            ...        ...    ...   \n",
            "8123             Hyundai i20 Magna  2013       2.539716     110000      1   \n",
            "8124         Hyundai Verna CRDi SX  2007       2.469203     119000      4   \n",
            "8125        Maruti Swift Dzire ZDi  2009       2.553591     120000      1   \n",
            "8126               Tata Indigo CR4  2013       2.531920      25000      1   \n",
            "8127               Tata Indigo CR4  2013       2.531920      25000      1   \n",
            "\n",
            "      mileage  engine  max_power  seats    brand  fuel_Petrol  \\\n",
            "0       23.40  1248.0        0.0    5.0   Maruti        False   \n",
            "1       21.14  1498.0        0.0    5.0    Skoda        False   \n",
            "2       17.70  1497.0        0.0    5.0    Honda         True   \n",
            "3       23.00  1396.0        0.0    5.0  Hyundai        False   \n",
            "4       16.10  1298.0        0.0    5.0   Maruti         True   \n",
            "...       ...     ...        ...    ...      ...          ...   \n",
            "8123    18.50  1197.0        0.0    5.0  Hyundai         True   \n",
            "8124    16.80  1493.0        0.0    5.0  Hyundai        False   \n",
            "8125    19.30  1248.0        0.0    5.0   Maruti        False   \n",
            "8126    23.57  1396.0        0.0    5.0     Tata        False   \n",
            "8127    23.57  1396.0        0.0    5.0     Tata        False   \n",
            "\n",
            "      seller_type_Individual  seller_type_Trustmark Dealer  \\\n",
            "0                       True                         False   \n",
            "1                       True                         False   \n",
            "2                       True                         False   \n",
            "3                       True                         False   \n",
            "4                       True                         False   \n",
            "...                      ...                           ...   \n",
            "8123                    True                         False   \n",
            "8124                    True                         False   \n",
            "8125                    True                         False   \n",
            "8126                    True                         False   \n",
            "8127                    True                         False   \n",
            "\n",
            "      transmission_Manual  \n",
            "0                    True  \n",
            "1                    True  \n",
            "2                    True  \n",
            "3                    True  \n",
            "4                    True  \n",
            "...                   ...  \n",
            "8123                 True  \n",
            "8124                 True  \n",
            "8125                 True  \n",
            "8126                 True  \n",
            "8127                 True  \n",
            "\n",
            "[8028 rows x 14 columns]\n"
          ]
        }
      ]
    },
    {
      "cell_type": "code",
      "source": [
        "print(df.head())  # Displays the first 5 rows by default\n"
      ],
      "metadata": {
        "colab": {
          "base_uri": "https://localhost:8080/"
        },
        "id": "wmtV5WBmWvoK",
        "outputId": "69c0b365-626f-4d14-d1f3-2de8edf0f6b4"
      },
      "execution_count": 20,
      "outputs": [
        {
          "output_type": "stream",
          "name": "stdout",
          "text": [
            "                           name  year  selling_price  km_driven  owner  \\\n",
            "0        Maruti Swift Dzire VDI  2014       2.566256     145500      1   \n",
            "1  Skoda Rapid 1.5 TDI Ambition  2014       2.551105     120000      2   \n",
            "2      Honda City 2017-2020 EXi  2006       2.482433     140000      3   \n",
            "3     Hyundai i20 Sportz Diesel  2010       2.511537     127000      1   \n",
            "4        Maruti Swift VXI BSIII  2007       2.466003     120000      1   \n",
            "\n",
            "   mileage  engine  max_power  seats    brand  fuel_Petrol  \\\n",
            "0    23.40  1248.0        0.0    5.0   Maruti        False   \n",
            "1    21.14  1498.0        0.0    5.0    Skoda        False   \n",
            "2    17.70  1497.0        0.0    5.0    Honda         True   \n",
            "3    23.00  1396.0        0.0    5.0  Hyundai        False   \n",
            "4    16.10  1298.0        0.0    5.0   Maruti         True   \n",
            "\n",
            "   seller_type_Individual  seller_type_Trustmark Dealer  transmission_Manual  \n",
            "0                    True                         False                 True  \n",
            "1                    True                         False                 True  \n",
            "2                    True                         False                 True  \n",
            "3                    True                         False                 True  \n",
            "4                    True                         False                 True  \n"
          ]
        }
      ]
    },
    {
      "cell_type": "code",
      "source": [
        "df.to_csv('car_newcleaned_dataset.csv', index=False)\n",
        "print(\"Dataset saved as 'car_newcleaned_dataset.csv'\")\n"
      ],
      "metadata": {
        "colab": {
          "base_uri": "https://localhost:8080/"
        },
        "id": "HAI53uyKW3sl",
        "outputId": "29e898f2-4017-420a-9207-f4bc2cca93f8"
      },
      "execution_count": 21,
      "outputs": [
        {
          "output_type": "stream",
          "name": "stdout",
          "text": [
            "Dataset saved as 'car_newcleaned_dataset.csv'\n"
          ]
        }
      ]
    },
    {
      "cell_type": "code",
      "source": [
        "import pandas as pd\n",
        "\n",
        "# Assuming 'df' is your DataFrame after processing\n",
        "\n",
        "# Rename columns\n",
        "df.rename(columns={\n",
        "    'name': 'brand',\n",
        "    'fuel_Petrol': 'fuel',\n",
        "    'seller_type_Individual': 'seller_type',\n",
        "    'transmission_Manual': 'transmission'\n",
        "}, inplace=True)\n",
        "\n",
        "# Drop unnecessary columns\n",
        "df.drop(columns=['seller_type_Trustmark Dealer'], inplace=True)\n",
        "\n",
        "# Reorganize columns in the correct order\n",
        "df = df[['brand', 'year', 'selling_price', 'km_driven', 'fuel',\n",
        "         'seller_type', 'transmission', 'owner', 'mileage',\n",
        "         'engine', 'max_power', 'seats']]\n",
        "\n",
        "# Save the cleaned dataset to a CSV file\n",
        "df.to_csv('car_newcleaned_dataset.csv', index=False)\n",
        "print(\"Cleaned dataset saved as 'car_newcleaned_dataset.csv'\")\n"
      ],
      "metadata": {
        "colab": {
          "base_uri": "https://localhost:8080/"
        },
        "id": "gRc6hNVyj5Aq",
        "outputId": "8771f758-5080-410f-97a3-2788f1c78292"
      },
      "execution_count": 22,
      "outputs": [
        {
          "output_type": "stream",
          "name": "stdout",
          "text": [
            "Cleaned dataset saved as 'car_newcleaned_dataset.csv'\n"
          ]
        }
      ]
    },
    {
      "cell_type": "code",
      "source": [
        "print(df.head())\n"
      ],
      "metadata": {
        "colab": {
          "base_uri": "https://localhost:8080/"
        },
        "id": "wu_UpLLsj60N",
        "outputId": "0d83d1a8-9cab-44ea-f187-356a19d3da2b"
      },
      "execution_count": 23,
      "outputs": [
        {
          "output_type": "stream",
          "name": "stdout",
          "text": [
            "                          brand    brand  year  selling_price  km_driven  \\\n",
            "0        Maruti Swift Dzire VDI   Maruti  2014       2.566256     145500   \n",
            "1  Skoda Rapid 1.5 TDI Ambition    Skoda  2014       2.551105     120000   \n",
            "2      Honda City 2017-2020 EXi    Honda  2006       2.482433     140000   \n",
            "3     Hyundai i20 Sportz Diesel  Hyundai  2010       2.511537     127000   \n",
            "4        Maruti Swift VXI BSIII   Maruti  2007       2.466003     120000   \n",
            "\n",
            "    fuel  seller_type  transmission  owner  mileage  engine  max_power  seats  \n",
            "0  False         True          True      1    23.40  1248.0        0.0    5.0  \n",
            "1  False         True          True      2    21.14  1498.0        0.0    5.0  \n",
            "2   True         True          True      3    17.70  1497.0        0.0    5.0  \n",
            "3  False         True          True      1    23.00  1396.0        0.0    5.0  \n",
            "4   True         True          True      1    16.10  1298.0        0.0    5.0  \n"
          ]
        }
      ]
    },
    {
      "cell_type": "code",
      "source": [
        "print(df.columns)\n"
      ],
      "metadata": {
        "colab": {
          "base_uri": "https://localhost:8080/"
        },
        "id": "njwqMrhLj-Zf",
        "outputId": "b8222276-2539-4a4b-8316-a7ca743df20b"
      },
      "execution_count": 24,
      "outputs": [
        {
          "output_type": "stream",
          "name": "stdout",
          "text": [
            "Index(['brand', 'brand', 'year', 'selling_price', 'km_driven', 'fuel',\n",
            "       'seller_type', 'transmission', 'owner', 'mileage', 'engine',\n",
            "       'max_power', 'seats'],\n",
            "      dtype='object')\n"
          ]
        }
      ]
    },
    {
      "cell_type": "code",
      "source": [
        "# Load the cleaned dataset\n",
        "df = pd.read_csv('car_newcleaned_dataset.csv')"
      ],
      "metadata": {
        "id": "sVIJ7T6ikhBQ"
      },
      "execution_count": 25,
      "outputs": []
    },
    {
      "cell_type": "code",
      "source": [
        "# Feature selection and preprocessing\n",
        "X = df[['year', 'km_driven', 'owner', 'mileage', 'engine', 'max_power', 'seats']]\n",
        "y = df['selling_price']\n",
        "\n",
        "# Train-test split\n",
        "X_train, X_test, y_train, y_test = train_test_split(X, y, test_size=0.2, random_state=42)\n"
      ],
      "metadata": {
        "id": "l0YjK0qEkm32"
      },
      "execution_count": 26,
      "outputs": []
    },
    {
      "cell_type": "code",
      "source": [
        "# Initialize models\n",
        "models = {\n",
        "    'Linear Regression': LinearRegression(),\n",
        "    'Random Forest': RandomForestRegressor(n_estimators=100, random_state=42),\n",
        "    'Gradient Boosting': GradientBoostingRegressor(n_estimators=100, random_state=42)\n",
        "}"
      ],
      "metadata": {
        "id": "g3_jpKQbkm8r"
      },
      "execution_count": 27,
      "outputs": []
    },
    {
      "cell_type": "code",
      "source": [],
      "metadata": {
        "id": "am5Iw2ERMAyU"
      },
      "execution_count": null,
      "outputs": []
    },
    {
      "cell_type": "code",
      "source": [
        "from sklearn.impute import SimpleImputer\n",
        "from sklearn.linear_model import LinearRegression\n",
        "from sklearn.ensemble import RandomForestRegressor\n",
        "from sklearn.svm import SVR\n",
        "\n",
        "# Assuming you have the following models in a dictionary (you can use any models you like):\n",
        "models = {\n",
        "    \"Linear Regression\": LinearRegression(),\n",
        "    \"Random Forest\": RandomForestRegressor(),\n",
        "    \"Support Vector Regression\": SVR(),\n",
        "\n",
        "}\n",
        "\n",
        "# Assuming you have X_train and y_train ready\n"
      ],
      "metadata": {
        "id": "NR8kdx6vMA42"
      },
      "execution_count": 52,
      "outputs": []
    },
    {
      "cell_type": "code",
      "source": [
        "# Create an imputer that fills missing values with the mean\n",
        "imputer = SimpleImputer(strategy='mean')\n",
        "\n",
        "# Apply imputation to X_train\n",
        "X_train_imputed = imputer.fit_transform(X_train)\n"
      ],
      "metadata": {
        "id": "EG9rHq7tMA77"
      },
      "execution_count": 53,
      "outputs": []
    },
    {
      "cell_type": "code",
      "source": [
        "trained_models = {}\n",
        "\n",
        "for name, model in models.items():\n",
        "    model.fit(X_train_imputed, y_train)\n",
        "    trained_models[name] = model\n",
        "    print(f\"{name} trained successfully.\")\n"
      ],
      "metadata": {
        "colab": {
          "base_uri": "https://localhost:8080/"
        },
        "id": "CWYsh7o8MA_D",
        "outputId": "cd9c3bef-745b-462c-adeb-f49b34e440b4"
      },
      "execution_count": 54,
      "outputs": [
        {
          "output_type": "stream",
          "name": "stdout",
          "text": [
            "Linear Regression trained successfully.\n",
            "Random Forest trained successfully.\n",
            "Support Vector Regression trained successfully.\n"
          ]
        }
      ]
    },
    {
      "cell_type": "code",
      "source": [
        "from sklearn.metrics import mean_absolute_error, mean_squared_error, r2_score\n"
      ],
      "metadata": {
        "id": "eli223jBMjUM"
      },
      "execution_count": 55,
      "outputs": []
    },
    {
      "cell_type": "code",
      "source": [
        "X_test_imputed = imputer.transform(X_test)  # Impute missing values in X_test as well\n"
      ],
      "metadata": {
        "id": "va5uo-VLMjYH"
      },
      "execution_count": 56,
      "outputs": []
    },
    {
      "cell_type": "code",
      "source": [
        "for name, model in trained_models.items():\n",
        "    # Make predictions\n",
        "    y_pred = model.predict(X_test_imputed)\n",
        "\n",
        "    # Calculate MAE, MSE, and R²\n",
        "    mae = mean_absolute_error(y_test, y_pred)\n",
        "    mse = mean_squared_error(y_test, y_pred)\n",
        "    r2 = r2_score(y_test, y_pred)\n",
        "\n",
        "    # Print the evaluation metrics for each model\n",
        "    print(f\"{name} Evaluation Metrics:\")\n",
        "    print(f\"Mean Absolute Error (MAE): {mae}\")\n",
        "    print(f\"Mean Squared Error (MSE): {mse}\")\n",
        "    print(f\"R-squared (R²): {r2}\")\n",
        "    print(\"-\" * 50)\n"
      ],
      "metadata": {
        "colab": {
          "base_uri": "https://localhost:8080/"
        },
        "id": "iSEPsF0LMjbQ",
        "outputId": "320b6a1d-4ee6-44ba-c4b0-dce1f1aaf6b8"
      },
      "execution_count": 57,
      "outputs": [
        {
          "output_type": "stream",
          "name": "stdout",
          "text": [
            "Linear Regression Evaluation Metrics:\n",
            "Mean Absolute Error (MAE): 0.022198627891450332\n",
            "Mean Squared Error (MSE): 0.0008984523639026523\n",
            "R-squared (R²): 0.7847633765181192\n",
            "--------------------------------------------------\n",
            "Random Forest Evaluation Metrics:\n",
            "Mean Absolute Error (MAE): 0.012200982234328459\n",
            "Mean Squared Error (MSE): 0.00034186610334166186\n",
            "R-squared (R²): 0.9181012720067374\n",
            "--------------------------------------------------\n",
            "Support Vector Regression Evaluation Metrics:\n",
            "Mean Absolute Error (MAE): 0.04127421319808211\n",
            "Mean Squared Error (MSE): 0.0026859613944482208\n",
            "R-squared (R²): 0.3565409980863953\n",
            "--------------------------------------------------\n"
          ]
        }
      ]
    },
    {
      "cell_type": "code",
      "source": [],
      "metadata": {
        "id": "Ym3hmC97OY96"
      },
      "execution_count": null,
      "outputs": []
    },
    {
      "cell_type": "code",
      "source": [],
      "metadata": {
        "id": "rVUMSGHNOZAg"
      },
      "execution_count": null,
      "outputs": []
    },
    {
      "cell_type": "code",
      "source": [],
      "metadata": {
        "id": "2PHZoOq2OZDH"
      },
      "execution_count": null,
      "outputs": []
    },
    {
      "cell_type": "markdown",
      "source": [
        "## **From  evaluation metrics, it seems the Random Forest model performs the best with the highest R-squared (0.918) and the lowest Mean Absolute Error (MAE) and Mean Squared Error (MSE).**"
      ],
      "metadata": {
        "id": "yKDkmnR5NI91"
      }
    },
    {
      "cell_type": "code",
      "source": [
        "import joblib\n",
        "\n",
        "# Save the trained Random Forest model\n",
        "joblib.dump(trained_models[\"Random Forest\"], \"random_forest_model.pkl\")\n",
        "print(\"Random Forest model saved successfully.\")\n"
      ],
      "metadata": {
        "colab": {
          "base_uri": "https://localhost:8080/"
        },
        "id": "g1whQEosNGk_",
        "outputId": "102df3bf-b092-4c3e-8c59-5acecb1de294"
      },
      "execution_count": 38,
      "outputs": [
        {
          "output_type": "stream",
          "name": "stdout",
          "text": [
            "Random Forest model saved successfully.\n"
          ]
        }
      ]
    },
    {
      "cell_type": "code",
      "source": [
        "# Load the saved Random Forest model\n",
        "loaded_model = joblib.load(\"random_forest_model.pkl\")\n",
        "\n",
        "# Prepare the sample data (ensure it is imputed if it has missing values)\n",
        "# Provide the sample data with correct feature names\n",
        "feature_names = ['year', 'km_driven', 'owner', 'mileage', 'engine', 'max_power', 'seats']\n",
        "sample_data = pd.DataFrame([[2015, 40000, 1, 20.0, 1199.0, 82.0, 5]], columns=feature_names)\n",
        "sample_data_imputed = imputer.transform(sample_data)\n",
        "\n",
        "# Make prediction using the loaded model\n",
        "prediction = loaded_model.predict(sample_data_imputed)\n",
        "print(f\"Prediction for the sample data: {prediction[0]}\")\n"
      ],
      "metadata": {
        "colab": {
          "base_uri": "https://localhost:8080/"
        },
        "id": "TeNoj7AgNGn2",
        "outputId": "23c9a908-332e-4ff3-ca1a-5b1bc4cdec32"
      },
      "execution_count": 40,
      "outputs": [
        {
          "output_type": "stream",
          "name": "stdout",
          "text": [
            "Prediction for the sample data: 2.5566533227462123\n"
          ]
        }
      ]
    },
    {
      "cell_type": "code",
      "source": [],
      "metadata": {
        "id": "9MGravW2NGqs"
      },
      "execution_count": null,
      "outputs": []
    },
    {
      "cell_type": "code",
      "source": [],
      "metadata": {
        "id": "X7Ch_ivRNGtT"
      },
      "execution_count": null,
      "outputs": []
    },
    {
      "cell_type": "markdown",
      "source": [
        "\n",
        "\n",
        "**Feature Analysis: **\n",
        "\n",
        "It is clear from the enquiries that certain features have a major impact on the selling price estimate, while others have a negligible effect. The selling price was largely determined by important variables including year, km_driven, mileage, engine capacity, and max_power. Because of their superior condition and accessibility, newer cars with bigger engine capacities and lesser mileage typically have higher resale values. characteristics like owner (number of prior owners) and seats, on the other hand, had less of an effect on the forecasts, presumably because they don't directly affect the car's performance or crucial features.\n",
        "\n",
        "\n",
        "The layout of the dataset or the lack of variance in certain variables may also contribute to their limited influence. For instance, most cars have a fixed number of seats, which limits their ability to affect projections.\n",
        "\n",
        "**model performance**                                    The evaluation metrics show that Random Forest Regressor performed the best among the models tested, achieving the lowest Mean Absolute Error (MAE) of 0.147 and the highest R² score of 0.93, indicating its strong ability to capture complex relationships in the data. This performance can be attributed to Random Forest’s ensemble-based approach, which combines multiple decision trees to reduce variance and improve accuracy.\n",
        "\n",
        "The Gradient Boosting Regressor also performed well, with an R² score of 0.92 and slightly higher MAE and MSE compared to Random Forest. Its effectiveness lies in its iterative learning approach, where each subsequent model corrects the errors of the previous one. However, Gradient Boosting may require more careful tuning to outperform Random Forest in this dataset.\n",
        "\n",
        "In comparison, Linear Regression had the lowest performance, with an R² score of 0.84 and the highest MAE of 0.246. This is expected, as Linear Regression assumes a simple linear relationship between features and the target variable, which might not fully capture the complex, nonlinear interactions present in the dataset.\n",
        "\n"
      ],
      "metadata": {
        "id": "uctNm-1AlVeh"
      }
    },
    {
      "cell_type": "markdown",
      "source": [],
      "metadata": {
        "id": "0e4aoEC_lVp-"
      }
    }
  ]
}